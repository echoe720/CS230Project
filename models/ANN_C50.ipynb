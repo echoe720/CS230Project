{
  "nbformat": 4,
  "nbformat_minor": 0,
  "metadata": {
    "accelerator": "GPU",
    "colab": {
      "name": "ANN_C50.ipynb",
      "provenance": []
    },
    "kernelspec": {
      "display_name": "Python 3",
      "name": "python3"
    },
    "language_info": {
      "name": "python"
    }
  },
  "cells": [
    {
      "cell_type": "code",
      "metadata": {
        "id": "Jhe3MNovRe6b"
      },
      "source": [
        "import numpy as np # linear algebra\n",
        "import pandas as pd # data processing, CSV file I/O (e.g. pd.read_csv)\n",
        "from sklearn import feature_extraction, linear_model, model_selection, preprocessing\n",
        "import tensorflow as tf\n"
      ],
      "execution_count": null,
      "outputs": []
    },
    {
      "cell_type": "code",
      "metadata": {
        "colab": {
          "base_uri": "https://localhost:8080/"
        },
        "id": "ov247sYARtMZ",
        "outputId": "744d17bc-474c-44e5-9b2b-caa43ea7ebb3"
      },
      "source": [
        "#this mounts your Google Drive to the Colab VM.\n",
        "from google.colab import drive\n",
        "drive.mount('/content/drive', force_remount=True)\n",
        "\n",
        "# enter the foldername in the Shared Google Drive\n",
        "FOLDERNAME = 'Shared drives/CS 230 Project'\n",
        "assert FOLDERNAME is not None, \"[!] Enter the foldername.\"\n",
        "\n",
        "# now that we've mounted your Drive, this ensures that\n",
        "# the Python interpreter of the Colab VM can load\n",
        "# python files from within it.\n",
        "import sys\n",
        "sys.path.append('/content/drive/{}'.format(FOLDERNAME))\n",
        "\n",
        "%cd /content/drive/$FOLDERNAME/"
      ],
      "execution_count": null,
      "outputs": [
        {
          "output_type": "stream",
          "text": [
            "Mounted at /content/drive\n",
            "/content/drive/Shared drives/CS 230 Project\n"
          ],
          "name": "stdout"
        }
      ]
    },
    {
      "cell_type": "code",
      "metadata": {
        "id": "0dnzxb0UR24w"
      },
      "source": [
        "datapath = \"datasets/C50/\"\n",
        "train_df = pd.read_csv(datapath + \"C50train/C50_train_article.csv\")\n",
        "test_df = pd.read_csv(datapath + \"C50test/C50_test_article.csv\")\n"
      ],
      "execution_count": null,
      "outputs": []
    },
    {
      "cell_type": "code",
      "metadata": {
        "colab": {
          "base_uri": "https://localhost:8080/",
          "height": 204
        },
        "id": "llnhWgGDoGH0",
        "outputId": "2242f60e-5f29-442c-fe28-d5ade9c8bec2"
      },
      "source": [
        "train_df.head()"
      ],
      "execution_count": null,
      "outputs": [
        {
          "output_type": "execute_result",
          "data": {
            "text/html": [
              "<div>\n",
              "<style scoped>\n",
              "    .dataframe tbody tr th:only-of-type {\n",
              "        vertical-align: middle;\n",
              "    }\n",
              "\n",
              "    .dataframe tbody tr th {\n",
              "        vertical-align: top;\n",
              "    }\n",
              "\n",
              "    .dataframe thead th {\n",
              "        text-align: right;\n",
              "    }\n",
              "</style>\n",
              "<table border=\"1\" class=\"dataframe\">\n",
              "  <thead>\n",
              "    <tr style=\"text-align: right;\">\n",
              "      <th></th>\n",
              "      <th>Text</th>\n",
              "      <th>Author_num</th>\n",
              "    </tr>\n",
              "  </thead>\n",
              "  <tbody>\n",
              "    <tr>\n",
              "      <th>0</th>\n",
              "      <td>The Commerce Department will issue final rules...</td>\n",
              "      <td>0</td>\n",
              "    </tr>\n",
              "    <tr>\n",
              "      <th>1</th>\n",
              "      <td>The Clinton administration will modestly revis...</td>\n",
              "      <td>0</td>\n",
              "    </tr>\n",
              "    <tr>\n",
              "      <th>2</th>\n",
              "      <td>The Federal Communications Commission has tent...</td>\n",
              "      <td>0</td>\n",
              "    </tr>\n",
              "    <tr>\n",
              "      <th>3</th>\n",
              "      <td>A group of leading trademark specialists plans...</td>\n",
              "      <td>0</td>\n",
              "    </tr>\n",
              "    <tr>\n",
              "      <th>4</th>\n",
              "      <td>An influential Internet organisation has backe...</td>\n",
              "      <td>0</td>\n",
              "    </tr>\n",
              "  </tbody>\n",
              "</table>\n",
              "</div>"
            ],
            "text/plain": [
              "                                                Text  Author_num\n",
              "0  The Commerce Department will issue final rules...           0\n",
              "1  The Clinton administration will modestly revis...           0\n",
              "2  The Federal Communications Commission has tent...           0\n",
              "3  A group of leading trademark specialists plans...           0\n",
              "4  An influential Internet organisation has backe...           0"
            ]
          },
          "metadata": {
            "tags": []
          },
          "execution_count": 4
        }
      ]
    },
    {
      "cell_type": "code",
      "metadata": {
        "id": "wwVp0uZFscom"
      },
      "source": [
        "\n",
        "train_df.columns = [\"Text\", \"Author\"]\n",
        "test_df.columns = [\"Text\", \"Author\"]"
      ],
      "execution_count": null,
      "outputs": []
    },
    {
      "cell_type": "code",
      "metadata": {
        "colab": {
          "base_uri": "https://localhost:8080/"
        },
        "id": "qok2-bGCvEpw",
        "outputId": "cce6d81d-7dbf-46bc-a56e-64fffa01d943"
      },
      "source": [
        "print(train_df.loc[0])"
      ],
      "execution_count": null,
      "outputs": [
        {
          "output_type": "stream",
          "text": [
            "Text      The Commerce Department will issue final rules...\n",
            "Author                                                    0\n",
            "Name: 0, dtype: object\n"
          ],
          "name": "stdout"
        }
      ]
    },
    {
      "cell_type": "code",
      "metadata": {
        "colab": {
          "base_uri": "https://localhost:8080/",
          "height": 419
        },
        "id": "Te1-FNVPjgHo",
        "outputId": "9fab09c7-aac0-44c2-b353-b2a296add7ec"
      },
      "source": [
        "train_df = train_df.sample(frac=1)\n",
        "test_df = test_df.sample(frac=1)"
      ],
      "execution_count": null,
      "outputs": [
        {
          "output_type": "execute_result",
          "data": {
            "text/html": [
              "<div>\n",
              "<style scoped>\n",
              "    .dataframe tbody tr th:only-of-type {\n",
              "        vertical-align: middle;\n",
              "    }\n",
              "\n",
              "    .dataframe tbody tr th {\n",
              "        vertical-align: top;\n",
              "    }\n",
              "\n",
              "    .dataframe thead th {\n",
              "        text-align: right;\n",
              "    }\n",
              "</style>\n",
              "<table border=\"1\" class=\"dataframe\">\n",
              "  <thead>\n",
              "    <tr style=\"text-align: right;\">\n",
              "      <th></th>\n",
              "      <th>Text</th>\n",
              "      <th>Author</th>\n",
              "    </tr>\n",
              "  </thead>\n",
              "  <tbody>\n",
              "    <tr>\n",
              "      <th>1908</th>\n",
              "      <td>French President Jacques Chirac looked set on ...</td>\n",
              "      <td>38</td>\n",
              "    </tr>\n",
              "    <tr>\n",
              "      <th>747</th>\n",
              "      <td>Czech Prime Minister Vaclav Klaus said on Wedn...</td>\n",
              "      <td>13</td>\n",
              "    </tr>\n",
              "    <tr>\n",
              "      <th>1740</th>\n",
              "      <td>Authorities in central China's Anhui province ...</td>\n",
              "      <td>34</td>\n",
              "    </tr>\n",
              "    <tr>\n",
              "      <th>2408</th>\n",
              "      <td>While the U.S. auto industry celebrated its 10...</td>\n",
              "      <td>48</td>\n",
              "    </tr>\n",
              "    <tr>\n",
              "      <th>874</th>\n",
              "      <td>Czech President Vaclav Havel has been moved ou...</td>\n",
              "      <td>18</td>\n",
              "    </tr>\n",
              "    <tr>\n",
              "      <th>...</th>\n",
              "      <td>...</td>\n",
              "      <td>...</td>\n",
              "    </tr>\n",
              "    <tr>\n",
              "      <th>153</th>\n",
              "      <td>One of China's most prominent dissidents, Wang...</td>\n",
              "      <td>3</td>\n",
              "    </tr>\n",
              "    <tr>\n",
              "      <th>1436</th>\n",
              "      <td>Russia's aluminium industry has roared back to...</td>\n",
              "      <td>28</td>\n",
              "    </tr>\n",
              "    <tr>\n",
              "      <th>167</th>\n",
              "      <td>China's Communist Party leader Jiang Zemin app...</td>\n",
              "      <td>3</td>\n",
              "    </tr>\n",
              "    <tr>\n",
              "      <th>1363</th>\n",
              "      <td>China has missed a golden opportunity to expor...</td>\n",
              "      <td>27</td>\n",
              "    </tr>\n",
              "    <tr>\n",
              "      <th>844</th>\n",
              "      <td>A thankful Elizabeth Forsyth, a former aide of...</td>\n",
              "      <td>17</td>\n",
              "    </tr>\n",
              "  </tbody>\n",
              "</table>\n",
              "<p>2500 rows × 2 columns</p>\n",
              "</div>"
            ],
            "text/plain": [
              "                                                   Text  Author\n",
              "1908  French President Jacques Chirac looked set on ...      38\n",
              "747   Czech Prime Minister Vaclav Klaus said on Wedn...      13\n",
              "1740  Authorities in central China's Anhui province ...      34\n",
              "2408  While the U.S. auto industry celebrated its 10...      48\n",
              "874   Czech President Vaclav Havel has been moved ou...      18\n",
              "...                                                 ...     ...\n",
              "153   One of China's most prominent dissidents, Wang...       3\n",
              "1436  Russia's aluminium industry has roared back to...      28\n",
              "167   China's Communist Party leader Jiang Zemin app...       3\n",
              "1363  China has missed a golden opportunity to expor...      27\n",
              "844   A thankful Elizabeth Forsyth, a former aide of...      17\n",
              "\n",
              "[2500 rows x 2 columns]"
            ]
          },
          "metadata": {
            "tags": []
          },
          "execution_count": 7
        }
      ]
    },
    {
      "cell_type": "code",
      "metadata": {
        "id": "KoubtHbMuL8J"
      },
      "source": [
        "def df_column_switch(df, column1, column2):\n",
        "    i = list(df.columns)\n",
        "    a, b = i.index(column1), i.index(column2)\n",
        "    i[b], i[a] = i[a], i[b]\n",
        "    df = df[i]\n",
        "    return df"
      ],
      "execution_count": null,
      "outputs": []
    },
    {
      "cell_type": "code",
      "metadata": {
        "id": "YpnWYd4Ut3P4"
      },
      "source": [
        "train_df=df_column_switch(train_df, \"Author\", \"Text\")\n",
        "test_df=df_column_switch(test_df, \"Author\", \"Text\")"
      ],
      "execution_count": null,
      "outputs": []
    },
    {
      "cell_type": "code",
      "metadata": {
        "colab": {
          "base_uri": "https://localhost:8080/"
        },
        "id": "fQc61Crcu49P",
        "outputId": "8d02c5d6-b849-4d28-923e-b80cb3e5bcba"
      },
      "source": [
        "print(train_df.loc[0])"
      ],
      "execution_count": null,
      "outputs": [
        {
          "output_type": "stream",
          "text": [
            "Author                                                    0\n",
            "Text      The Commerce Department will issue final rules...\n",
            "Name: 0, dtype: object\n"
          ],
          "name": "stdout"
        }
      ]
    },
    {
      "cell_type": "code",
      "metadata": {
        "id": "PGdnB6BBSadQ"
      },
      "source": [
        "def map_authors(data):\n",
        "    authors = []\n",
        "    author_mappings = {}\n",
        "    for index, row in data.iterrows():\n",
        "        name = row['Author']\n",
        "        if name in authors:\n",
        "            continue\n",
        "        authors.append(name)\n",
        "        \n",
        "    authors.sort()\n",
        "    for i in range(len(authors)):\n",
        "        author_mappings[authors[i]] = i\n",
        "    return author_mappings "
      ],
      "execution_count": null,
      "outputs": []
    },
    {
      "cell_type": "code",
      "metadata": {
        "id": "S39q5POb1ry7"
      },
      "source": [
        "def reverse_mapping(author_mapping):\n",
        "    reverse = {}\n",
        "    for key in author_mapping.keys():\n",
        "        reverse[author_mapping[key]] = key\n",
        "    return reverse"
      ],
      "execution_count": null,
      "outputs": []
    },
    {
      "cell_type": "code",
      "metadata": {
        "colab": {
          "base_uri": "https://localhost:8080/"
        },
        "id": "lty8boUOT9pT",
        "outputId": "e6aa87dc-d5e5-46f9-cc2d-db32dddab590"
      },
      "source": [
        "author_mapping = map_authors(test_df)\n",
        "reverse_mappings = reverse_mapping(author_mapping)"
      ],
      "execution_count": null,
      "outputs": [
        {
          "output_type": "stream",
          "text": [
            "{0: 0, 1: 1, 2: 2, 3: 3, 4: 4, 5: 5, 6: 6, 7: 7, 8: 8, 9: 9, 10: 10, 11: 11, 12: 12, 13: 13, 14: 14, 15: 15, 16: 16, 17: 17, 18: 18, 19: 19, 20: 20, 21: 21, 22: 22, 23: 23, 24: 24, 25: 25, 26: 26, 27: 27, 28: 28, 29: 29, 30: 30, 31: 31, 32: 32, 33: 33, 34: 34, 35: 35, 36: 36, 37: 37, 38: 38, 39: 39, 40: 40, 41: 41, 42: 42, 43: 43, 44: 44, 45: 45, 46: 46, 47: 47, 48: 48, 49: 49}\n"
          ],
          "name": "stdout"
        }
      ]
    },
    {
      "cell_type": "code",
      "metadata": {
        "id": "WkvNPmPbUIpI"
      },
      "source": [
        "count_vectorizer = feature_extraction.text.CountVectorizer()\n",
        "train_vectors = count_vectorizer.fit_transform(train_df['Text'])\n",
        "test_vectors = count_vectorizer.transform(test_df[\"Text\"])\n"
      ],
      "execution_count": null,
      "outputs": []
    },
    {
      "cell_type": "code",
      "metadata": {
        "id": "qvBl9mGQWpRX"
      },
      "source": [
        "def extract_features(data):\n",
        "  features = np.zeros((len(data.index), 2))\n",
        "  for index, row in data.iterrows():\n",
        "      text = row['Text']\n",
        "      features[index, 0] = len(text) / 5\n",
        "      words = text.split()\n",
        "      features[index, 1] = len(text) / len(words)\n",
        "  return features\n"
      ],
      "execution_count": null,
      "outputs": []
    },
    {
      "cell_type": "code",
      "metadata": {
        "id": "xRGdFKzKVg6g"
      },
      "source": [
        "def get_mappings(data, author_mapping):\n",
        "    authors = data['Author']\n",
        "    mappings = [author_mapping[author] for author in authors]\n",
        "    data['mappings'] = mappings\n",
        "    return data['mappings']"
      ],
      "execution_count": null,
      "outputs": []
    },
    {
      "cell_type": "code",
      "metadata": {
        "id": "-5tQWFlNWfzH",
        "colab": {
          "base_uri": "https://localhost:8080/"
        },
        "outputId": "5cb32c37-52e5-4c65-981e-37a658415dde"
      },
      "source": [
        "test_targets = get_mappings(test_df, author_mapping)\n",
        "train_targets = get_mappings(train_df, author_mapping)"
      ],
      "execution_count": null,
      "outputs": [
        {
          "output_type": "stream",
          "text": [
            "/usr/local/lib/python3.7/dist-packages/ipykernel_launcher.py:4: SettingWithCopyWarning: \n",
            "A value is trying to be set on a copy of a slice from a DataFrame.\n",
            "Try using .loc[row_indexer,col_indexer] = value instead\n",
            "\n",
            "See the caveats in the documentation: https://pandas.pydata.org/pandas-docs/stable/user_guide/indexing.html#returning-a-view-versus-a-copy\n",
            "  after removing the cwd from sys.path.\n"
          ],
          "name": "stderr"
        }
      ]
    },
    {
      "cell_type": "code",
      "metadata": {
        "id": "6AuqXzW9aWh9"
      },
      "source": [
        "num_rows = len(test_df.index)"
      ],
      "execution_count": null,
      "outputs": []
    },
    {
      "cell_type": "code",
      "metadata": {
        "id": "PPix-wajb5-_"
      },
      "source": [
        "from keras.utils.np_utils import to_categorical\n",
        "label_test = test_targets\n",
        "label_train = train_targets\n",
        "# one hot encode\n",
        "encoded_label_test = to_categorical(label_test)\n",
        "encoded_label_train = to_categorical(label_train)\n",
        "\n"
      ],
      "execution_count": null,
      "outputs": []
    },
    {
      "cell_type": "code",
      "metadata": {
        "id": "F2U_f16FiwlM"
      },
      "source": [
        "from keras.regularizers import l2"
      ],
      "execution_count": null,
      "outputs": []
    },
    {
      "cell_type": "code",
      "metadata": {
        "id": "3GMYPcGSWtmc"
      },
      "source": [
        "ann = tf.keras.models.Sequential()"
      ],
      "execution_count": null,
      "outputs": []
    },
    {
      "cell_type": "code",
      "metadata": {
        "id": "B-1sBJSCXqiO"
      },
      "source": [
        "#ann.add(tf.keras.layers.Dense(units=100,  activation='relu'))"
      ],
      "execution_count": null,
      "outputs": []
    },
    {
      "cell_type": "code",
      "metadata": {
        "id": "JmZcX0HTaiqy"
      },
      "source": [
        "#ann.add(tf.keras.layers.Dense(units=100, activation='relu'))"
      ],
      "execution_count": null,
      "outputs": []
    },
    {
      "cell_type": "code",
      "metadata": {
        "id": "hcfAtjhPajXC"
      },
      "source": [
        "#ann.add(tf.keras.layers.Dense(units=100, activation='relu'))"
      ],
      "execution_count": null,
      "outputs": []
    },
    {
      "cell_type": "code",
      "metadata": {
        "id": "2PNW78lCYxCK"
      },
      "source": [
        "ann.add(tf.keras.layers.Dense(units=100, activation='relu'))"
      ],
      "execution_count": null,
      "outputs": []
    },
    {
      "cell_type": "code",
      "metadata": {
        "id": "U3jZLYTJakC0"
      },
      "source": [
        "ann.add(tf.keras.layers.Dense(50, activation='softmax'))"
      ],
      "execution_count": null,
      "outputs": []
    },
    {
      "cell_type": "code",
      "metadata": {
        "id": "ydXj-_kHaooH"
      },
      "source": [
        "ann.compile(optimizer = 'adam', loss = 'binary_crossentropy', metrics = ['accuracy'])"
      ],
      "execution_count": null,
      "outputs": []
    },
    {
      "cell_type": "code",
      "metadata": {
        "colab": {
          "base_uri": "https://localhost:8080/"
        },
        "id": "7XVNfZoiaqhQ",
        "outputId": "db594707-7c39-4777-bcef-e2b0bb8da1ac"
      },
      "source": [
        "ann.fit(train_vectors.todense(), encoded_label_train, batch_size = 32, epochs = 5)"
      ],
      "execution_count": null,
      "outputs": [
        {
          "output_type": "stream",
          "text": [
            "Epoch 1/5\n",
            "79/79 [==============================] - 3s 25ms/step - loss: 0.1387 - accuracy: 0.3232\n",
            "Epoch 2/5\n",
            "79/79 [==============================] - 2s 23ms/step - loss: 0.0374 - accuracy: 0.9156\n",
            "Epoch 3/5\n",
            "79/79 [==============================] - 2s 24ms/step - loss: 0.0158 - accuracy: 0.9852\n",
            "Epoch 4/5\n",
            "79/79 [==============================] - 2s 23ms/step - loss: 0.0080 - accuracy: 0.9968\n",
            "Epoch 5/5\n",
            "79/79 [==============================] - 2s 23ms/step - loss: 0.0047 - accuracy: 0.9988\n"
          ],
          "name": "stdout"
        },
        {
          "output_type": "execute_result",
          "data": {
            "text/plain": [
              "<tensorflow.python.keras.callbacks.History at 0x7f9493561e90>"
            ]
          },
          "metadata": {
            "tags": []
          },
          "execution_count": 30
        }
      ]
    },
    {
      "cell_type": "code",
      "metadata": {
        "colab": {
          "base_uri": "https://localhost:8080/"
        },
        "id": "UN_-EYbQaxCz",
        "outputId": "c2b67a8d-8f27-4c56-966f-a4da29791237"
      },
      "source": [
        "y_pred = ann.predict(test_vectors.todense())\n",
        "y_pred"
      ],
      "execution_count": null,
      "outputs": [
        {
          "output_type": "execute_result",
          "data": {
            "text/plain": [
              "array([[4.70265950e-04, 1.52371544e-03, 6.94151549e-03, ...,\n",
              "        2.26091663e-03, 1.33644545e-03, 9.97471740e-04],\n",
              "       [7.98826339e-04, 4.65633441e-03, 1.44232623e-03, ...,\n",
              "        1.63703575e-03, 1.35718263e-03, 2.51419656e-02],\n",
              "       [3.20480438e-04, 9.87154417e-05, 4.06250510e-05, ...,\n",
              "        3.39150429e-04, 1.15329502e-04, 3.34686993e-05],\n",
              "       ...,\n",
              "       [1.59383053e-03, 4.40061885e-05, 1.31610577e-04, ...,\n",
              "        5.91818569e-03, 1.39186438e-03, 2.94558617e-04],\n",
              "       [3.85531621e-06, 6.54743693e-04, 9.14599840e-03, ...,\n",
              "        4.71449603e-04, 3.23823770e-05, 8.93746328e-05],\n",
              "       [1.45952180e-02, 4.72974591e-02, 1.04381805e-02, ...,\n",
              "        1.83158868e-03, 9.99154802e-03, 2.51339190e-02]], dtype=float32)"
            ]
          },
          "metadata": {
            "tags": []
          },
          "execution_count": 31
        }
      ]
    },
    {
      "cell_type": "code",
      "metadata": {
        "id": "z2dyZcfNewCJ"
      },
      "source": [
        "\n",
        "y_output = np.zeros_like(y_pred)\n",
        "y_output[np.arange(len(y_pred)), y_pred.argmax(1)] = 1"
      ],
      "execution_count": null,
      "outputs": []
    },
    {
      "cell_type": "code",
      "metadata": {
        "id": "o--uwvtPmm1D"
      },
      "source": [
        "from sklearn.metrics import confusion_matrix, accuracy_score"
      ],
      "execution_count": null,
      "outputs": []
    },
    {
      "cell_type": "code",
      "metadata": {
        "colab": {
          "base_uri": "https://localhost:8080/"
        },
        "id": "Fjv7qNYsmon6",
        "outputId": "ecf75b2c-91d3-4905-946c-e33595db94f3"
      },
      "source": [
        "accuracy_score(encoded_label_test, y_output)"
      ],
      "execution_count": null,
      "outputs": [
        {
          "output_type": "execute_result",
          "data": {
            "text/plain": [
              "0.6948"
            ]
          },
          "metadata": {
            "tags": []
          },
          "execution_count": 34
        }
      ]
    },
    {
      "cell_type": "code",
      "metadata": {
        "id": "2ozEuEvWut8s"
      },
      "source": [
        "def output_probs(reverse_mappings, output):\n",
        "    probs = {}\n",
        "    for i in range(len(output[0])):\n",
        "        probs[reverse_mappings[i]] = round(output[0][i], 3)\n",
        "    return probs\n"
      ],
      "execution_count": null,
      "outputs": []
    },
    {
      "cell_type": "code",
      "metadata": {
        "id": "HfG4i8dudxdE"
      },
      "source": [
        "str = \"\"\"\n",
        "The U.S. Department of Agriculture said this represented the first confirmed case of highly pathogenic H7 avian influenza (HPAI) in commercial poultry in the United States this year. It is the first time HPAI has been found in Tennessee, the state government said.\n",
        "\n",
        "Tyson, the biggest chicken meat producer in the United States, said in a statement it was working with Tennessee and federal officials to contain the virus by euthanizing the birds on the contract farm.\n",
        "In 2014 and 2015, during a widespread outbreak of HPAI, the United States killed nearly 50 million birds, mostly egg-laying hens. The losses pushed U.S. egg prices to record highs and prompted trading partners to ban imports of American poultry, even though there was little infection then in the broiler industry.\n",
        "\n",
        "No people were affected in that outbreak, which was primarily of the H5N2 strain. The risk of human infection in poultry outbreaks is low, although in China people have died this winter amid an outbreak of the H7N9 virus in birds.\n",
        "\n",
        "The facility in Tennessee’s Lincoln County has been placed under quarantine, along with approximately 30 other poultry farms within a 6.2-mile (10 km) radius of the site, the state said. Other flocks in the quarantined area are being tested, it added.\n",
        "\n",
        "Tyson, the USDA and the state did not name the facility involved. Tyson said that it did not expect disruptions to its chicken business.\n",
        "The USDA should have more information by Monday evening about the particular strain of the virus involved, spokeswoman Donna Karlsons said by email.\n",
        "\n",
        "HPAI bird flu was last found in a commercial turkey flock in Indiana in January 2016.\n",
        "\n",
        "The USDA said it would inform the World Organization for Animal Health (OIE) and international trading partners of the outbreak.\n",
        "\n",
        "The biggest traditional markets for U.S. chicken meat are Mexico and Canada, which introduced state or regional bans on U.S. broiler exports after the outbreak two years ago, and China, which imposed a national ban.\n",
        "\n",
        "Tennessee’s broiler production is too small to rank it in the top five U.S. producing states but it is the third-largest generator of cash receipts in agriculture for the state.\n",
        "\n",
        "In January, the USDA detected bird flu in a wild duck in Montana that appeared to match one of the strains found during the 2014 and 2015 outbreak.\n",
        "\n",
        "The United States stepped up biosecurity measures aimed at preventing the spread of bird flu after the outbreak two years ago.\n",
        "\n",
        "Tyson said precautions being taken include disinfecting all vehicles entering farms and banning all nonessential visitor access to contract farms.\n",
        "\n",
        "\n",
        "In recent months, different strains of bird flu have been confirmed across Asia and in Europe. Authorities have culled millions of birds in affected areas to control the outbreaks.\n",
        "\n",
        "France, which has the largest poultry flock in the European Union, has reported outbreaks of the highly contagious H5N8 bird flu virus. In South Korea, the rapid spread of the H5N6 strain of the virus has led to the country’s worst-ever outbreak of bird flu.\n",
        "\"\"\""
      ],
      "execution_count": null,
      "outputs": []
    },
    {
      "cell_type": "code",
      "metadata": {
        "id": "a8iWZC9L0drr"
      },
      "source": [
        "str_vectorized = count_vectorizer.transform({str})"
      ],
      "execution_count": null,
      "outputs": []
    },
    {
      "cell_type": "code",
      "metadata": {
        "colab": {
          "base_uri": "https://localhost:8080/"
        },
        "id": "fXScAecB0pCt",
        "outputId": "c40293dd-2f21-4ac8-b2be-16c32c2cb843"
      },
      "source": [
        "str_pred = ann.predict(str_vectorized)\n",
        "str_pred"
      ],
      "execution_count": null,
      "outputs": [
        {
          "output_type": "execute_result",
          "data": {
            "text/plain": [
              "array([[1.6409713e-06, 1.2668604e-05, 1.1965750e-07, 2.6214395e-06,\n",
              "        7.6080332e-06, 5.7978836e-05, 2.8710474e-07, 1.4883191e-06,\n",
              "        5.4806424e-07, 5.6856658e-07, 1.2252617e-07, 9.6658441e-05,\n",
              "        1.2663855e-07, 4.4233943e-06, 1.2797197e-05, 1.1982565e-06,\n",
              "        6.2871715e-07, 5.4416045e-08, 5.7018533e-05, 6.7452536e-05,\n",
              "        7.3292293e-04, 3.2734354e-06, 4.4523263e-06, 3.1457410e-05,\n",
              "        1.1384408e-05, 1.6343555e-06, 3.0836657e-06, 9.9857581e-01,\n",
              "        3.5891619e-05, 8.4840731e-06, 1.3027211e-06, 2.4528043e-05,\n",
              "        2.7533076e-07, 3.3692144e-05, 4.4436215e-06, 3.4564200e-05,\n",
              "        2.6142730e-05, 3.9268917e-07, 6.5175950e-06, 5.5513948e-07,\n",
              "        3.5860362e-06, 3.8522558e-06, 5.1296399e-07, 5.2556770e-06,\n",
              "        6.7708438e-06, 2.8483746e-06, 5.0145212e-07, 1.0986077e-05,\n",
              "        2.0582861e-06, 9.6852491e-05]], dtype=float32)"
            ]
          },
          "metadata": {
            "tags": []
          },
          "execution_count": 37
        }
      ]
    },
    {
      "cell_type": "code",
      "metadata": {
        "id": "KHr8hpUm0wLN"
      },
      "source": [
        "str_output = np.zeros_like(str_pred)\n",
        "str_output[np.arange(len(str_pred)), str_pred.argmax(1)] = 1"
      ],
      "execution_count": null,
      "outputs": []
    },
    {
      "cell_type": "code",
      "metadata": {
        "colab": {
          "base_uri": "https://localhost:8080/"
        },
        "id": "ZSZbbNnJ0xHs",
        "outputId": "ec72c9bf-d822-447c-fabc-f6024cb321c3"
      },
      "source": [
        "str_output"
      ],
      "execution_count": null,
      "outputs": [
        {
          "output_type": "execute_result",
          "data": {
            "text/plain": [
              "array([[0., 0., 0., 0., 0., 0., 0., 0., 0., 0., 0., 0., 0., 0., 0., 0.,\n",
              "        0., 0., 0., 0., 0., 0., 0., 0., 0., 0., 0., 1., 0., 0., 0., 0.,\n",
              "        0., 0., 0., 0., 0., 0., 0., 0., 0., 0., 0., 0., 0., 0., 0., 0.,\n",
              "        0., 0.]], dtype=float32)"
            ]
          },
          "metadata": {
            "tags": []
          },
          "execution_count": 39
        }
      ]
    },
    {
      "cell_type": "code",
      "metadata": {
        "colab": {
          "base_uri": "https://localhost:8080/"
        },
        "id": "eVRY2Mbp4930",
        "outputId": "1b432b5a-c75e-4ea7-81f3-8d476420cc38"
      },
      "source": [
        "print(str_output.shape)"
      ],
      "execution_count": null,
      "outputs": [
        {
          "output_type": "stream",
          "text": [
            "(1, 50)\n"
          ],
          "name": "stdout"
        }
      ]
    },
    {
      "cell_type": "code",
      "metadata": {
        "colab": {
          "base_uri": "https://localhost:8080/"
        },
        "id": "IFbaE_GT08b-",
        "outputId": "fc655742-0b14-481b-af13-a165708ea337"
      },
      "source": [
        "probs = output_probs(reverse_mappings, str_pred)\n",
        "probs"
      ],
      "execution_count": null,
      "outputs": [
        {
          "output_type": "execute_result",
          "data": {
            "text/plain": [
              "{0: 0.0,\n",
              " 1: 0.0,\n",
              " 2: 0.0,\n",
              " 3: 0.0,\n",
              " 4: 0.0,\n",
              " 5: 0.0,\n",
              " 6: 0.0,\n",
              " 7: 0.0,\n",
              " 8: 0.0,\n",
              " 9: 0.0,\n",
              " 10: 0.0,\n",
              " 11: 0.0,\n",
              " 12: 0.0,\n",
              " 13: 0.0,\n",
              " 14: 0.0,\n",
              " 15: 0.0,\n",
              " 16: 0.0,\n",
              " 17: 0.0,\n",
              " 18: 0.0,\n",
              " 19: 0.0,\n",
              " 20: 0.001,\n",
              " 21: 0.0,\n",
              " 22: 0.0,\n",
              " 23: 0.0,\n",
              " 24: 0.0,\n",
              " 25: 0.0,\n",
              " 26: 0.0,\n",
              " 27: 0.999,\n",
              " 28: 0.0,\n",
              " 29: 0.0,\n",
              " 30: 0.0,\n",
              " 31: 0.0,\n",
              " 32: 0.0,\n",
              " 33: 0.0,\n",
              " 34: 0.0,\n",
              " 35: 0.0,\n",
              " 36: 0.0,\n",
              " 37: 0.0,\n",
              " 38: 0.0,\n",
              " 39: 0.0,\n",
              " 40: 0.0,\n",
              " 41: 0.0,\n",
              " 42: 0.0,\n",
              " 43: 0.0,\n",
              " 44: 0.0,\n",
              " 45: 0.0,\n",
              " 46: 0.0,\n",
              " 47: 0.0,\n",
              " 48: 0.0,\n",
              " 49: 0.0}"
            ]
          },
          "metadata": {
            "tags": []
          },
          "execution_count": 41
        }
      ]
    },
    {
      "cell_type": "code",
      "metadata": {
        "colab": {
          "base_uri": "https://localhost:8080/"
        },
        "id": "_Bw4huuV4tEQ",
        "outputId": "3e882f7c-98d4-41dc-b8e0-e412b1a0723c"
      },
      "source": [
        "prediction = output_probs(reverse_mappings, str_output)\n",
        "max(prediction, key=prediction.get)"
      ],
      "execution_count": null,
      "outputs": [
        {
          "output_type": "execute_result",
          "data": {
            "text/plain": [
              "27"
            ]
          },
          "metadata": {
            "tags": []
          },
          "execution_count": 42
        }
      ]
    },
    {
      "cell_type": "code",
      "metadata": {
        "id": "P8UQ6T2h6Fpo"
      },
      "source": [
        ""
      ],
      "execution_count": null,
      "outputs": []
    }
  ]
}
